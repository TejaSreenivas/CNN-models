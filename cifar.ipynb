{
 "cells": [
  {
   "cell_type": "code",
   "execution_count": 1,
   "metadata": {},
   "outputs": [],
   "source": [
    "import tensorflow as tf\n",
    "import numpy as np\n",
    "import os\n",
    "import matplotlib.pyplot as plt\n",
    "from load_cifar import load_data\n",
    "import new_model as model\n"
   ]
  },
  {
   "cell_type": "markdown",
   "metadata": {},
   "source": [
    "### Load dataset (cifar-10)"
   ]
  },
  {
   "cell_type": "code",
   "execution_count": 2,
   "metadata": {},
   "outputs": [],
   "source": [
    "#data = load_data('C:/Users/k_tej/Documents/TEJA/ML_resources/DL_projects/data_sets/cifar-10-batches-py')\n",
    "data = load_data('/floyd/input/cifar_10_batches_py/cifar-10-batches-py')"
   ]
  },
  {
   "cell_type": "code",
   "execution_count": 3,
   "metadata": {},
   "outputs": [
    {
     "data": {
      "text/plain": [
       "dict_keys(['train_x', 'train_y', 'test_x', 'test_y'])"
      ]
     },
     "execution_count": 3,
     "metadata": {},
     "output_type": "execute_result"
    }
   ],
   "source": [
    "data.keys()"
   ]
  },
  {
   "cell_type": "code",
   "execution_count": 4,
   "metadata": {},
   "outputs": [
    {
     "data": {
      "text/plain": [
       "(((50000, 32, 32, 3), (50000,)), ((10000, 32, 32, 3), (10000,)))"
      ]
     },
     "execution_count": 4,
     "metadata": {},
     "output_type": "execute_result"
    }
   ],
   "source": [
    "(data['train_x'].shape,data['train_y'].shape),(data['test_x'].shape,data['test_y'].shape)"
   ]
  },
  {
   "cell_type": "markdown",
   "metadata": {},
   "source": [
    "### dataset labels"
   ]
  },
  {
   "cell_type": "code",
   "execution_count": 5,
   "metadata": {},
   "outputs": [],
   "source": [
    "labels=['airplane','automobile','bird','cat','deer','dog','frog','horse','ship','truck']"
   ]
  },
  {
   "cell_type": "code",
   "execution_count": 6,
   "metadata": {},
   "outputs": [],
   "source": [
    "DIM = 32\n",
    "CH = 3"
   ]
  },
  {
   "cell_type": "code",
   "execution_count": 7,
   "metadata": {},
   "outputs": [
    {
     "name": "stdout",
     "output_type": "stream",
     "text": [
      "Label: automobile\n"
     ]
    },
    {
     "data": {
      "text/plain": [
       "<matplotlib.image.AxesImage at 0x7fb17f564470>"
      ]
     },
     "execution_count": 7,
     "metadata": {},
     "output_type": "execute_result"
    },
    {
     "data": {
      "image/png": "[encoded data removed]",
      "text/plain": [
       "<Figure size 432x288 with 1 Axes>"
      ]
     },
     "metadata": {},
     "output_type": "display_data"
    }
   ],
   "source": [
    "x = np.random.randint(50000)\n",
    "print('Label: {}'.format(labels[data['train_y'][x]]))\n",
    "plt.imshow(data['train_x'][x].reshape(DIM,DIM,CH))"
   ]
  },
  {
   "cell_type": "markdown",
   "metadata": {},
   "source": [
    "### Data preprocessing"
   ]
  },
  {
   "cell_type": "markdown",
   "metadata": {},
   "source": [
    "#### 1.  One hot encoding "
   ]
  },
  {
   "cell_type": "code",
   "execution_count": 8,
   "metadata": {},
   "outputs": [
    {
     "data": {
      "text/plain": [
       "((50000, 10), (10000, 10))"
      ]
     },
     "execution_count": 8,
     "metadata": {},
     "output_type": "execute_result"
    }
   ],
   "source": [
    "n_classes = 10\n",
    "id_mtx = np.identity(n_classes,dtype=np.float32)\n",
    "data['train_y'] = id_mtx[data['train_y']]\n",
    "data['test_y'] = id_mtx[data['test_y']]\n",
    "data['train_y'].shape, data['test_y'].shape"
   ]
  },
  {
   "cell_type": "markdown",
   "metadata": {},
   "source": [
    "#### 2. Normalize "
   ]
  },
  {
   "cell_type": "code",
   "execution_count": 9,
   "metadata": {},
   "outputs": [],
   "source": [
    "data['train_x'] = data['train_x'].astype(np.float32)/255\n",
    "data['test_x'] = data['test_x'].astype(np.float32)/255"
   ]
  },
  {
   "cell_type": "markdown",
   "metadata": {},
   "source": [
    "### generate datasets "
   ]
  },
  {
   "cell_type": "code",
   "execution_count": 10,
   "metadata": {},
   "outputs": [],
   "source": [
    "batch_size = 100"
   ]
  },
  {
   "cell_type": "code",
   "execution_count": 11,
   "metadata": {},
   "outputs": [
    {
     "data": {
      "text/plain": [
       "(<BatchDataset shapes: ((?, 32, 32, 3), (?, 10)), types: (tf.float32, tf.float32)>,\n",
       " <BatchDataset shapes: ((?, 32, 32, 3), (?, 10)), types: (tf.float32, tf.float32)>,\n",
       " <BatchDataset shapes: ((?, 32, 32, 3), (?, 10)), types: (tf.float32, tf.float32)>)"
      ]
     },
     "execution_count": 11,
     "metadata": {},
     "output_type": "execute_result"
    }
   ],
   "source": [
    "with tf.variable_scope(\"dataset_gen\" ):    \n",
    "    dtrain_x = tf.data.Dataset.from_tensor_slices(data['train_x'])\n",
    "    dtrain_y = tf.data.Dataset.from_tensor_slices(data['train_y'])\n",
    "    dtrain = tf.data.Dataset.zip(( dtrain_x, dtrain_y )).batch(batch_size)\n",
    "    \n",
    "    dtest_x = tf.data.Dataset.from_tensor_slices(data['test_x'])\n",
    "    dtest_y = tf.data.Dataset.from_tensor_slices(data['test_y'])\n",
    "    dtest = tf.data.Dataset.zip(( dtest_x,dtest_y )).batch(batch_size)\n",
    "    \n",
    "    dvalid_x = tf.data.Dataset.from_tensor_slices(data['test_x'][:1000,:,:,:])\n",
    "    dvalid_y = tf.data.Dataset.from_tensor_slices(data['test_y'][:1000])\n",
    "    dvalid = tf.data.Dataset.zip(( dtest_x,dtest_y )).batch(batch_size)\n",
    "(dtrain,dtest,dvalid)"
   ]
  },
  {
   "cell_type": "code",
   "execution_count": null,
   "metadata": {},
   "outputs": [],
   "source": []
  },
  {
   "cell_type": "markdown",
   "metadata": {},
   "source": [
    "### Iterators "
   ]
  },
  {
   "cell_type": "code",
   "execution_count": 12,
   "metadata": {},
   "outputs": [],
   "source": [
    "with tf.variable_scope(\"dataset_init\"):\n",
    "    iterator = tf.data.Iterator.from_structure(dtrain.output_types,dtrain.output_shapes)\n",
    "    get_batch = iterator.get_next()\n",
    "    #for train\n",
    "    dtrain_init = iterator.make_initializer(dtrain)\n",
    "    #for test\n",
    "    dtest_init = iterator.make_initializer(dtest)\n",
    "    #for validation\n",
    "    dvalid_init = iterator.make_initializer(dvalid)"
   ]
  },
  {
   "cell_type": "markdown",
   "metadata": {},
   "source": [
    "### setting hyperparameters"
   ]
  },
  {
   "cell_type": "code",
   "execution_count": 13,
   "metadata": {},
   "outputs": [],
   "source": [
    "epochs = 10\n",
    "probability_keep = 0.2"
   ]
  },
  {
   "cell_type": "code",
   "execution_count": 14,
   "metadata": {},
   "outputs": [
    {
     "name": "stdout",
     "output_type": "stream",
     "text": [
      "varname : conv_1/weight:0 [Dimension(5), Dimension(5), Dimension(3), Dimension(32)]\n",
      "varname : conv_1/bias:0 [Dimension(32)]\n",
      "varname : conv_1/batch_normalization/gamma:0 [Dimension(32)]\n",
      "varname : conv_1/batch_normalization/beta:0 [Dimension(32)]\n",
      "varname : conv_2/weight:0 [Dimension(5), Dimension(5), Dimension(32), Dimension(64)]\n",
      "varname : conv_2/bias:0 [Dimension(64)]\n",
      "varname : conv_3/weight:0 [Dimension(3), Dimension(3), Dimension(64), Dimension(128)]\n",
      "varname : conv_3/bias:0 [Dimension(128)]\n",
      "varname : batch_normalization/gamma:0 [Dimension(2048)]\n",
      "varname : batch_normalization/beta:0 [Dimension(2048)]\n",
      "varname : dense/kernel:0 [Dimension(2048), Dimension(1024)]\n",
      "varname : dense/bias:0 [Dimension(1024)]\n",
      "varname : batch_normalization_1/gamma:0 [Dimension(1024)]\n",
      "varname : batch_normalization_1/beta:0 [Dimension(1024)]\n",
      "varname : dense_1/kernel:0 [Dimension(1024), Dimension(10)]\n",
      "varname : dense_1/bias:0 [Dimension(10)]\n",
      "total number of trainable parameter : 2242186\n"
     ]
    }
   ],
   "source": [
    "is_train = tf.placeholder(shape=(),dtype=tf.bool,name='is_train')\n",
    "prob_keep = tf.placeholder(shape=(),dtype=tf.float32,name = 'probability_keep')\n",
    "global_step = tf.Variable(0, trainable=False)\n",
    "current_model = model.CNN(get_batch[0], is_train, prob_keep)\n",
    "param_info = current_model.total_params()"
   ]
  },
  {
   "cell_type": "code",
   "execution_count": 15,
   "metadata": {},
   "outputs": [
    {
     "data": {
      "text/plain": [
       "<tf.Tensor 'dense_1/BiasAdd:0' shape=(?, 10) dtype=float32>"
      ]
     },
     "execution_count": 15,
     "metadata": {},
     "output_type": "execute_result"
    }
   ],
   "source": [
    "logits=current_model.logits\n",
    "logits"
   ]
  },
  {
   "cell_type": "markdown",
   "metadata": {},
   "source": [
    "### Optimization "
   ]
  },
  {
   "cell_type": "code",
   "execution_count": 16,
   "metadata": {},
   "outputs": [],
   "source": [
    "start_lr = 1e-3\n",
    "end_lr = 5e-3\n",
    "decay_steps = 10000\n",
    "lr = tf.train.exponential_decay(start_lr,global_step, decay_steps, 0.96, staircase=True)\n",
    "loss = tf.reduce_mean(tf.nn.softmax_cross_entropy_with_logits_v2(labels=get_batch[1],logits=logits))\n",
    "tf.summary.scalar(\"losses\",loss)\n",
    "tf.summary.scalar(\"learning_rate\",lr)\n",
    "extra_update_ops = tf.get_collection(tf.GraphKeys.UPDATE_OPS)\n",
    "with tf.control_dependencies(extra_update_ops):\n",
    "    optimizer = tf.train.AdamOptimizer(lr).minimize(loss, global_step=global_step)\n",
    "predictions = tf.argmax(logits,axis=1)\n",
    "labels = tf.argmax(get_batch[1],axis=1)\n",
    "equality = tf.equal(predictions,labels)\n",
    "accuracy = tf.reduce_mean(tf.cast(equality,tf.float32))\n",
    "conf_mtx=tf.confusion_matrix(labels=tf.argmax(get_batch[1],axis=1),predictions=tf.argmax(logits,axis=1),num_classes=n_classes)\n",
    "tf.summary.scalar(\"accuracy\",accuracy)\n",
    "#tf.summary.text(\"confusion_matrix\", tf.cast(conf_mtx,tf.string))\n",
    "ginit_op = tf.global_variables_initializer()"
   ]
  },
  {
   "cell_type": "code",
   "execution_count": 17,
   "metadata": {},
   "outputs": [
    {
     "name": "stdout",
     "output_type": "stream",
     "text": [
      "floyd/home/logs\n"
     ]
    }
   ],
   "source": [
    "log_dir = 'floyd/home/logs'\n",
    "print(log_dir)\n",
    "t_summary = tf.summary.merge_all()\n",
    "writer = tf.summary.FileWriter(log_dir)"
   ]
  },
  {
   "cell_type": "code",
   "execution_count": 18,
   "metadata": {},
   "outputs": [],
   "source": [
    "def run_dataset(sess, init_op, variables, feed_dict, train=False):\n",
    "    sess.run(init_op)\n",
    "    logs = []\n",
    "    itr = 1\n",
    "    #stack = np.random.rand(1,n_classes)\n",
    "    #stack = []\n",
    "    stack = np.zeros((10,10),dtype=np.int32)\n",
    "    while True:\n",
    "        try:\n",
    "            res = sess.run(variables, feed_dict=feed_dict)\n",
    "            logs.append(res[0]) # first element of the result is either accuracy or loss\n",
    "            if train:\n",
    "                writer.add_summary(res[-1],i)\n",
    "                itr+=1\n",
    "                if itr%100 == 0:\n",
    "                    print(\"batch :{}, loss :{:.3f}, accuracy :{:.3f}\".format(itr,res[0],res[2]))\n",
    "            else:\n",
    "                #stack = np.vstack((stack,res[-1]))\n",
    "                #stack.append(res[-1])\n",
    "                stack = stack + res[-1]\n",
    "        except tf.errors.OutOfRangeError:\n",
    "            return logs,stack\n",
    "            \n",
    "    "
   ]
  },
  {
   "cell_type": "code",
   "execution_count": 19,
   "metadata": {
    "scrolled": true
   },
   "outputs": [
    {
     "name": "stdout",
     "output_type": "stream",
     "text": [
      "training epoch : 1\n",
      "batch :100, loss :1.389, accuracy :0.480\n",
      "batch :200, loss :1.441, accuracy :0.520\n",
      "batch :300, loss :1.269, accuracy :0.540\n",
      "batch :400, loss :1.475, accuracy :0.520\n",
      "batch :500, loss :1.168, accuracy :0.560\n",
      "average validation accuracy :0.60\n",
      "training epoch : 2\n",
      "batch :100, loss :0.868, accuracy :0.660\n",
      "batch :200, loss :1.052, accuracy :0.630\n",
      "batch :300, loss :0.923, accuracy :0.620\n",
      "batch :400, loss :1.128, accuracy :0.650\n",
      "batch :500, loss :0.892, accuracy :0.670\n",
      "average validation accuracy :0.63\n",
      "training epoch : 3\n",
      "batch :100, loss :0.652, accuracy :0.760\n",
      "batch :200, loss :0.858, accuracy :0.720\n",
      "batch :300, loss :0.707, accuracy :0.790\n",
      "batch :400, loss :0.841, accuracy :0.720\n",
      "batch :500, loss :0.688, accuracy :0.770\n",
      "average validation accuracy :0.64\n",
      "training epoch : 4\n",
      "batch :100, loss :0.518, accuracy :0.820\n",
      "batch :200, loss :0.696, accuracy :0.750\n",
      "batch :300, loss :0.528, accuracy :0.820\n",
      "batch :400, loss :0.745, accuracy :0.770\n",
      "batch :500, loss :0.535, accuracy :0.800\n",
      "average validation accuracy :0.65\n",
      "training epoch : 5\n",
      "batch :100, loss :0.530, accuracy :0.830\n",
      "batch :200, loss :0.551, accuracy :0.840\n",
      "batch :300, loss :0.410, accuracy :0.860\n",
      "batch :400, loss :0.406, accuracy :0.900\n",
      "batch :500, loss :0.427, accuracy :0.860\n",
      "average validation accuracy :0.64\n",
      "training epoch : 6\n",
      "batch :100, loss :0.252, accuracy :0.930\n",
      "batch :200, loss :0.424, accuracy :0.880\n",
      "batch :300, loss :0.377, accuracy :0.860\n",
      "batch :400, loss :0.339, accuracy :0.910\n",
      "batch :500, loss :0.288, accuracy :0.910\n",
      "average validation accuracy :0.64\n",
      "training epoch : 7\n",
      "batch :100, loss :0.278, accuracy :0.880\n",
      "batch :200, loss :0.280, accuracy :0.930\n",
      "batch :300, loss :0.251, accuracy :0.920\n",
      "batch :400, loss :0.265, accuracy :0.910\n",
      "batch :500, loss :0.205, accuracy :0.940\n",
      "average validation accuracy :0.65\n",
      "training epoch : 8\n",
      "batch :100, loss :0.142, accuracy :0.940\n",
      "batch :200, loss :0.197, accuracy :0.930\n",
      "batch :300, loss :0.158, accuracy :0.970\n",
      "batch :400, loss :0.169, accuracy :0.950\n",
      "batch :500, loss :0.160, accuracy :0.930\n",
      "average validation accuracy :0.64\n",
      "training epoch : 9\n",
      "batch :100, loss :0.165, accuracy :0.950\n",
      "batch :200, loss :0.156, accuracy :0.940\n",
      "batch :300, loss :0.143, accuracy :0.940\n",
      "batch :400, loss :0.159, accuracy :0.950\n",
      "batch :500, loss :0.122, accuracy :0.960\n",
      "average validation accuracy :0.64\n",
      "training epoch : 10\n",
      "batch :100, loss :0.109, accuracy :0.960\n",
      "batch :200, loss :0.104, accuracy :0.970\n",
      "batch :300, loss :0.122, accuracy :0.960\n",
      "batch :400, loss :0.091, accuracy :0.960\n",
      "batch :500, loss :0.228, accuracy :0.920\n",
      "average validation accuracy :0.65\n",
      "average test accuracy :0.6460\n",
      "average train accuracy :0.9447\n"
     ]
    },
    {
     "data": {
      "image/png": "[encoded data removed]",
      "text/plain": [
       "<Figure size 432x288 with 1 Axes>"
      ]
     },
     "metadata": {},
     "output_type": "display_data"
    }
   ],
   "source": [
    "valid_log_acc = []\n",
    "train_log_acc=[]\n",
    "test_acc=[]\n",
    "train_acc=[]\n",
    "with tf.Session() as sess:\n",
    "    writer.add_graph(sess.graph)\n",
    "    sess.run(ginit_op)\n",
    "    train_log_loss = []\n",
    "    valid_log_loss = []\n",
    "    for i in range(1,epochs+1):\n",
    "        print(\"training epoch : {}\".format(i))\n",
    "        sess.run(dtrain_init)\n",
    "        feed_dict={is_train:True,prob_keep:0.3}\n",
    "        variables = [loss,optimizer,accuracy,t_summary]\n",
    "        l,_  = run_dataset(sess, dtrain_init, variables, feed_dict, True)\n",
    "        train_log_loss.append(l)\n",
    "        \n",
    "        variables = [accuracy,conf_mtx]\n",
    "        feed_dict = {is_train:False,prob_keep:1.0}\n",
    "        acc,_ = run_dataset(sess, dvalid_init, variables, feed_dict)\n",
    "        acc = np.array(acc)\n",
    "        valid_log_acc.append(acc.mean())\n",
    "        print(\"average validation accuracy :{:.2f}\".format(acc.mean()))\n",
    "    \n",
    "    #for test dataset\n",
    "    variables = [accuracy,conf_mtx]\n",
    "    feed_dict = {is_train:False,prob_keep:1.0}\n",
    "    acc, test_stack = run_dataset(sess, dtest_init, variables, feed_dict)\n",
    "    test_acc = np.array(acc)\n",
    "    print(\"average test accuracy :{:.4f}\".format(test_acc.mean()))\n",
    "    \n",
    "    # for train dataset\n",
    "    variables = [accuracy,conf_mtx]\n",
    "    feed_dict = {is_train:False,prob_keep:1.0}\n",
    "    acc, train_stack = run_dataset(sess, dtrain_init, variables, feed_dict)\n",
    "    train_acc = np.array(acc)\n",
    "    print(\"average train accuracy :{:.4f}\".format(train_acc.mean()))\n",
    "    plt.plot(valid_log_acc,label='valid_acc',color='g')\n",
    "    train_log_loss = np.array(train_log_loss).reshape(-1)\n",
    "    x = np.arange(1,train_log_loss.shape[0]+1)/500\n",
    "    plt.plot(x,train_log_loss,label='train loss', color='r')\n",
    "    plt.xlabel('epochs')\n",
    "    plt.legend()\n",
    "    plt.show()\n",
    "         "
   ]
  },
  {
   "cell_type": "code",
   "execution_count": 20,
   "metadata": {},
   "outputs": [],
   "source": [
    "output_dict = dict()\n",
    "output_dict['batch_size'] = batch_size\n",
    "output_dict['epochs'] = epochs\n",
    "output_dict['loss'] = np.array(train_log_loss)\n",
    "output_dict['accuracy'] = np.array(valid_log_acc)\n",
    "output_dict['test_accuracy'] = np.array(test_acc)\n",
    "output_dict['train_accuracy'] = np.array(train_acc)\n"
   ]
  },
  {
   "cell_type": "markdown",
   "metadata": {},
   "source": [
    "np.save('data_info_epochs_1.npy',output_dict)\n",
    "np.savetxt('train_stack.csv',train_stack[1:],delimiter=',')\n",
    "np.savetxt('test_stack.csv',test_stack[1:],delimiter=',')"
   ]
  },
  {
   "cell_type": "code",
   "execution_count": 21,
   "metadata": {},
   "outputs": [],
   "source": [
    "\n",
    "np.save('/floyd/home/data_info_epoch_1.npy',output_dict)\n",
    "np.savetxt('/floyd/home/train_stack.csv',train_stack,delimiter=',')\n",
    "np.savetxt('/floyd/home/test_stack.csv',test_stack,delimiter=',')\n",
    "\n"
   ]
  },
  {
   "cell_type": "code",
   "execution_count": 22,
   "metadata": {},
   "outputs": [
    {
     "data": {
      "text/plain": [
       "(10, 10)"
      ]
     },
     "execution_count": 22,
     "metadata": {},
     "output_type": "execute_result"
    }
   ],
   "source": [
    "train_stack.shape"
   ]
  },
  {
   "cell_type": "code",
   "execution_count": null,
   "metadata": {},
   "outputs": [],
   "source": []
  }
 ],
 "metadata": {
  "kernelspec": {
   "display_name": "Python 3",
   "language": "python",
   "name": "python3"
  },
  "language_info": {
   "codemirror_mode": {
    "name": "ipython",
    "version": 3
   },
   "file_extension": ".py",
   "mimetype": "text/x-python",
   "name": "python",
   "nbconvert_exporter": "python",
   "pygments_lexer": "ipython3",
   "version": "3.6.0"
  }
 },
 "nbformat": 4,
 "nbformat_minor": 2
}
