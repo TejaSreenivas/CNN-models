{
 "cells": [
  {
   "cell_type": "code",
   "execution_count": 58,
   "metadata": {},
   "outputs": [],
   "source": [
    "import numpy as np\n",
    "import csv\n",
    "import pandas as pd \n",
    "from load_cifar import load_data"
   ]
  },
  {
   "cell_type": "code",
   "execution_count": 59,
   "metadata": {},
   "outputs": [],
   "source": [
    "import csv\n",
    "with open('train_stack.csv', 'r') as f:\n",
    "    train = list(csv.reader(f, delimiter=','))\n"
   ]
  },
  {
   "cell_type": "code",
   "execution_count": 65,
   "metadata": {},
   "outputs": [],
   "source": [
    "train = np.array(train).astype(np.float32).astype(np.int32)"
   ]
  },
  {
   "cell_type": "code",
   "execution_count": 66,
   "metadata": {},
   "outputs": [
    {
     "data": {
      "text/plain": [
       "(10, 10)"
      ]
     },
     "execution_count": 66,
     "metadata": {},
     "output_type": "execute_result"
    }
   ],
   "source": [
    "train.shape"
   ]
  },
  {
   "cell_type": "code",
   "execution_count": 68,
   "metadata": {},
   "outputs": [
    {
     "data": {
      "text/plain": [
       "array([[4953,    1,    5,    7,    2,    1,    6,    3,   19,    3],\n",
       "       [  29, 4901,    2,   10,    6,    2,    5,    7,    6,   32],\n",
       "       [ 228,   13, 4501,   36,  126,   31,   17,   19,   25,    4],\n",
       "       [  32,    5,   14, 4756,   31,   66,   40,   15,   20,   21],\n",
       "       [  89,    5,   14,   11, 4798,   20,   21,   24,   14,    4],\n",
       "       [  17,    4,   14,   62,   41, 4811,   17,   24,    5,    5],\n",
       "       [  16,    4,   14,   16,   31,    6, 4897,    8,    5,    3],\n",
       "       [  16,    1,   11,   19,   34,   19,    3, 4890,    3,    4],\n",
       "       [  54,    8,    3,    7,    6,    0,    3,    1, 4910,    8],\n",
       "       [  35,   48,    3,    4,    4,    1,    6,    5,   19, 4875]])"
      ]
     },
     "execution_count": 68,
     "metadata": {},
     "output_type": "execute_result"
    }
   ],
   "source": []
  },
  {
   "cell_type": "code",
   "execution_count": 69,
   "metadata": {},
   "outputs": [],
   "source": [
    "ct = 0\n",
    "for i in range(10):\n",
    "    ct+=train[i][i]"
   ]
  },
  {
   "cell_type": "code",
   "execution_count": 71,
   "metadata": {},
   "outputs": [
    {
     "data": {
      "text/plain": [
       "48292"
      ]
     },
     "execution_count": 71,
     "metadata": {},
     "output_type": "execute_result"
    }
   ],
   "source": [
    "ct/train.sum()"
   ]
  },
  {
   "cell_type": "code",
   "execution_count": 72,
   "metadata": {},
   "outputs": [
    {
     "data": {
      "text/plain": [
       "0.6732"
      ]
     },
     "execution_count": 72,
     "metadata": {},
     "output_type": "execute_result"
    }
   ],
   "source": [
    "import csv\n",
    "with open('test_stack.csv', 'r') as f:\n",
    "    train = list(csv.reader(f, delimiter=','))\n",
    "train = np.array(train).astype(np.float32).astype(np.int32)\n",
    "ct = 0\n",
    "for i in range(10):\n",
    "    ct+=train[i][i]\n",
    "ct/train.sum()"
   ]
  },
  {
   "cell_type": "code",
   "execution_count": 73,
   "metadata": {},
   "outputs": [
    {
     "data": {
      "text/plain": [
       "array([[816,  26,  23,  14,   6,  11,  12,   8,  60,  24],\n",
       "       [ 36, 785,  11,  20,   5,   7,   7,   6,  25,  98],\n",
       "       [114,  12, 484,  68, 112,  74,  59,  47,  16,  14],\n",
       "       [ 48,  21,  61, 489,  56, 185,  60,  39,  14,  27],\n",
       "       [ 58,   7,  64,  66, 606,  42,  55,  72,  22,   8],\n",
       "       [ 27,   7,  48, 169,  52, 584,  34,  54,  13,  12],\n",
       "       [ 16,  11,  44,  66,  49,  27, 752,  10,   8,  17],\n",
       "       [ 32,   9,  30,  41,  66,  66,  10, 721,   1,  24],\n",
       "       [102,  41,  10,  14,   2,   8,   7,   6, 775,  35],\n",
       "       [ 62, 108,   7,  22,   6,  10,  10,  15,  40, 720]])"
      ]
     },
     "execution_count": 73,
     "metadata": {},
     "output_type": "execute_result"
    }
   ],
   "source": [
    "train"
   ]
  }
 ],
 "metadata": {
  "kernelspec": {
   "display_name": "Python 3",
   "language": "python",
   "name": "python3"
  },
  "language_info": {
   "codemirror_mode": {
    "name": "ipython",
    "version": 3
   },
   "file_extension": ".py",
   "mimetype": "text/x-python",
   "name": "python",
   "nbconvert_exporter": "python",
   "pygments_lexer": "ipython3",
   "version": "3.6.0"
  }
 },
 "nbformat": 4,
 "nbformat_minor": 2
}
